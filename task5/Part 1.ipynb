{
 "cells": [
  {
   "cell_type": "code",
   "execution_count": 163,
   "metadata": {},
   "outputs": [],
   "source": [
    "from deap import creator, base, tools, algorithms\n",
    "import random\n",
    "import numpy"
   ]
  },
  {
   "cell_type": "code",
   "execution_count": 170,
   "metadata": {},
   "outputs": [],
   "source": [
    "with open(\"11.txt\") as f:\n",
    "    line1 = f.readline().rstrip() # сразу удаляем перенос строки в конце\n",
    "    MAX_WEIGHT = int(line1.split(' ')[0]) # грузоподъемность\n",
    "    MAX_VOLUME = int(line1.split(' ')[1]) # вместимость\n",
    "    items = {}\n",
    "    for num, line in enumerate(f):\n",
    "        items[num] = tuple(map(float, line.rstrip().split(' ')))\n",
    "    \n",
    "IND_INIT_SIZE = 5 # начальное количество предметов особи\n",
    "MAX_ITEM = 50   # максимальное количество предметов в рюкзаке (в особи)\n",
    "NBR_ITEMS = 20 # количество предметов"
   ]
  },
  {
   "cell_type": "code",
   "execution_count": 171,
   "metadata": {},
   "outputs": [],
   "source": [
    "# Инициализируем популяцию и существ\n",
    "\n",
    "# функция приспособленности: минимизация параметра 1 при максимизации параметра 2\n",
    "creator.create(\"Fitness\", base.Fitness, weights=(-1.0, -1.0, 1.0))\n",
    "# особь: неупорядоченный набор признаков\n",
    "creator.create(\"Individual\", set, fitness=creator.Fitness)\n",
    "\n",
    "toolbox = base.Toolbox()\n",
    "# конструирование признака особи: случайное число от 1 до 19\n",
    "toolbox.register(\"attr_item\", random.randrange, NBR_ITEMS)\n",
    "# конструирование особи: помещаем в особь атрибуты числом 5\n",
    "toolbox.register(\"individual\", tools.initRepeat, creator.Individual, toolbox.attr_item, IND_INIT_SIZE)\n",
    "# конструирование популяции: список особей\n",
    "toolbox.register(\"population\", tools.initRepeat, list, toolbox.individual)"
   ]
  },
  {
   "cell_type": "code",
   "execution_count": 174,
   "metadata": {},
   "outputs": [],
   "source": [
    "# Подсчет суммарного веса и стоимости\n",
    "def evalKnapsack(individual):\n",
    "    weight = 0.0\n",
    "    volume = 0.0\n",
    "    value = 0.0\n",
    "    for item in individual:\n",
    "        weight += items[item][0]\n",
    "        volume += items[item][1]\n",
    "        value += items[item][2]        \n",
    "    if (len(individual) > MAX_ITEM) or (weight > MAX_WEIGHT) or (volume > MAX_VOLUME):\n",
    "        return 10000, 10000, 0,             # Ensure overweighted bags are dominated\n",
    "    return weight, volume, value\n",
    "\n",
    "# Оператор наследования, определяет детей двух множеств: первый как пересечение, второй как разность\n",
    "def cxSet(ind1, ind2):\n",
    "    temp = set(ind1)                # Used in order to keep type\n",
    "    ind1 &= ind2                    # Intersection (inplace)\n",
    "    ind2 ^= temp                    # Symmetric Difference (inplace)\n",
    "    return ind1, ind2\n",
    "\n",
    "# Оператор мутации, рандомно добавляет и удаляет элементы\n",
    "def mutSet(individual):\n",
    "    \"\"\"Mutation that pops or add an element.\"\"\"\n",
    "    if random.random() < 0.5:\n",
    "        if len(individual) > 0:     # We cannot pop from an empty set\n",
    "            individual.remove(random.choice(sorted(tuple(individual))))\n",
    "    else:\n",
    "        individual.add(random.randrange(NBR_ITEMS))\n",
    "    return individual,\n",
    "\n",
    "# Регистрируем операции\n",
    "toolbox.register(\"evaluate\", evalKnapsack)\n",
    "toolbox.register(\"mate\", cxSet)\n",
    "toolbox.register(\"mutate\", mutSet)\n",
    "toolbox.register(\"select\", tools.selNSGA2)"
   ]
  },
  {
   "cell_type": "code",
   "execution_count": 197,
   "metadata": {},
   "outputs": [
    {
     "name": "stdout",
     "output_type": "stream",
     "text": [
      "After 60 generations best individual is Individual({0, 1, 2, 4, 6, 7, 8, 10, 12, 15, 16, 17, 18, 19})\n",
      "Weight 12847.0 of max 13000\n",
      "Volume 10.7 of max 12\n",
      "Value 4036.0\n"
     ]
    }
   ],
   "source": [
    "def main():\n",
    "    random.seed(64)\n",
    "    NGEN = 60   # Количество поколений\n",
    "    MU = 50    # Количество особей, переходящих в следующее поколение\n",
    "    LAMBDA = 100 # Количество потомков, появляющихся к следующему поколению\n",
    "    CXPB = 0.7  # Вероятность появления потомка кроссовером\n",
    "    MUTPB = 0.3 # Вероятность появления потомка мутацией\n",
    "    \n",
    "    # популяция: список особей (под капотом каждая особь - множество признаков-чисел от 0 до 20)\n",
    "    pop = toolbox.population(n=MU)\n",
    "    # передний зал славы, содержит особей, наилучших из тех, которые никогда не доминировали. отсортирован по ухудшению (первый - самый лучший и т.д.)\n",
    "    hof = tools.ParetoFront()\n",
    "    # статистика списка всех особей поколения, узнаем среднее, стандартное отклонение, минимум, максимум\n",
    "    stats = tools.Statistics(lambda ind: ind.fitness.values)\n",
    "    stats.register(\"avg\", numpy.mean, axis=0)\n",
    "    stats.register(\"max\", numpy.max, axis=0)\n",
    "    \n",
    "    # Эволюционная стратегия \"Мю плюс лямбда\"\n",
    "    pop100 = algorithms.eaMuPlusLambda(pop, toolbox, MU, LAMBDA, CXPB, MUTPB, NGEN, stats, halloffame=hof, verbose=0)\n",
    "    \n",
    "    best = pop100[0][0]\n",
    "    for ind in pop100[0]:\n",
    "        if evalKnapsack(ind)[2] > evalKnapsack(best)[2]:\n",
    "            best = ind\n",
    "    weight, volume, value = evalKnapsack(best)\n",
    "    print(\"After\", NGEN, \"generations best individual is\", best)\n",
    "    print(\"Weight\", weight, \"of max\", MAX_WEIGHT)\n",
    "    print(\"Volume\", round(volume, 1), \"of max\", MAX_VOLUME)\n",
    "    print(\"Value\", value)\n",
    "    \n",
    "\n",
    "main()"
   ]
  },
  {
   "cell_type": "code",
   "execution_count": null,
   "metadata": {},
   "outputs": [],
   "source": []
  }
 ],
 "metadata": {
  "kernelspec": {
   "display_name": "Python 3",
   "language": "python",
   "name": "python3"
  },
  "language_info": {
   "codemirror_mode": {
    "name": "ipython",
    "version": 3
   },
   "file_extension": ".py",
   "mimetype": "text/x-python",
   "name": "python",
   "nbconvert_exporter": "python",
   "pygments_lexer": "ipython3",
   "version": "3.8.1"
  }
 },
 "nbformat": 4,
 "nbformat_minor": 4
}
